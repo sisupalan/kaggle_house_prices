{
 "cells": [
  {
   "cell_type": "code",
   "execution_count": 2,
   "metadata": {
    "collapsed": true,
    "deletable": true,
    "editable": true
   },
   "outputs": [],
   "source": [
    "#Import the required libraries\n",
    "import pandas as pd\n",
    "%matplotlib inline"
   ]
  },
  {
   "cell_type": "code",
   "execution_count": 3,
   "metadata": {
    "collapsed": true,
    "deletable": true,
    "editable": true
   },
   "outputs": [],
   "source": [
    "#Import the requried datasets\n",
    "train_raw=pd.read_csv('/Users/SandyPC/Documents/Python/Projects/kaggle_house_prices/data/raw/train.csv')\n",
    "test_raw=pd.read_csv('/Users/SandyPC/Documents/Python/Projects/kaggle_house_prices/data/raw/test.csv')"
   ]
  },
  {
   "cell_type": "code",
   "execution_count": 4,
   "metadata": {
    "collapsed": false,
    "deletable": true,
    "editable": true
   },
   "outputs": [
    {
     "name": "stdout",
     "output_type": "stream",
     "text": [
      "Missing Values : \n",
      "               Missing%\n",
      "Column                 \n",
      "PoolQC        99.520548\n",
      "MiscFeature   96.301370\n",
      "Alley         93.767123\n",
      "Fence         80.753425\n",
      "FireplaceQu   47.260274\n",
      "LotFrontage   17.739726\n",
      "GarageYrBlt    5.547945\n",
      "GarageCond     5.547945\n",
      "GarageType     5.547945\n",
      "GarageFinish   5.547945\n",
      "GarageQual     5.547945\n",
      "BsmtFinType2   2.602740\n",
      "BsmtExposure   2.602740\n",
      "BsmtQual       2.534247\n",
      "BsmtCond       2.534247\n",
      "BsmtFinType1   2.534247\n",
      "MasVnrArea     0.547945\n",
      "MasVnrType     0.547945\n",
      "Electrical     0.068493\n",
      "Id             0.000000\n",
      "Functional     0.000000\n",
      "Fireplaces     0.000000\n",
      "KitchenQual    0.000000\n",
      "KitchenAbvGr   0.000000\n",
      "BedroomAbvGr   0.000000\n",
      "HalfBath       0.000000\n",
      "FullBath       0.000000\n",
      "BsmtHalfBath   0.000000\n",
      "TotRmsAbvGrd   0.000000\n",
      "GarageCars     0.000000\n",
      "...                 ...\n",
      "Condition2     0.000000\n",
      "Condition1     0.000000\n",
      "Neighborhood   0.000000\n",
      "LotConfig      0.000000\n",
      "YearBuilt      0.000000\n",
      "Utilities      0.000000\n",
      "LandContour    0.000000\n",
      "LotShape       0.000000\n",
      "Street         0.000000\n",
      "LotArea        0.000000\n",
      "MSZoning       0.000000\n",
      "OverallCond    0.000000\n",
      "YearRemodAdd   0.000000\n",
      "2ndFlrSF       0.000000\n",
      "BsmtFinSF2     0.000000\n",
      "1stFlrSF       0.000000\n",
      "CentralAir     0.000000\n",
      "MSSubClass     0.000000\n",
      "Heating        0.000000\n",
      "TotalBsmtSF    0.000000\n",
      "BsmtUnfSF      0.000000\n",
      "BsmtFinSF1     0.000000\n",
      "RoofStyle      0.000000\n",
      "Foundation     0.000000\n",
      "ExterCond      0.000000\n",
      "ExterQual      0.000000\n",
      "Exterior2nd    0.000000\n",
      "Exterior1st    0.000000\n",
      "RoofMatl       0.000000\n",
      "SalePrice      0.000000\n",
      "\n",
      "[81 rows x 1 columns]\n",
      "Columns above the 20% threshold : \n",
      "['PoolQC', 'MiscFeature', 'Alley', 'Fence', 'FireplaceQu']\n"
     ]
    },
    {
     "data": {
      "text/plain": [
       "<matplotlib.axes._subplots.AxesSubplot at 0x10759ab38>"
      ]
     },
     "execution_count": 4,
     "metadata": {},
     "output_type": "execute_result"
    },
    {
     "data": {
      "image/png": "[encoded data removed]",
      "text/plain": [
       "<matplotlib.figure.Figure at 0x10759a240>"
      ]
     },
     "metadata": {},
     "output_type": "display_data"
    }
   ],
   "source": [
    "#Find missing values\n",
    "missing_cols=pd.DataFrame({'Column' : train_raw.columns,\n",
    "                          'Missing%' : ((train_raw.isnull().sum().values/train_raw.shape[0])*100)\n",
    "                          },\n",
    "                          index=None)\n",
    "#Set the index to the Column\n",
    "missing_cols=missing_cols.set_index('Column')\n",
    "\n",
    "#Sort in descending order of Missing%\n",
    "missing_cols=missing_cols.sort_values(by='Missing%',ascending=False)\n",
    "\n",
    "#Print the columns having missing values\n",
    "print('Missing Values : ')\n",
    "print(missing_cols)\n",
    "\n",
    "#Set a threshold% beyond which we will be dropping columns having missing values\n",
    "threshold=20\n",
    "\n",
    "#Get the columns which cross the threshold\n",
    "missing_cols=missing_cols[missing_cols['Missing%']>threshold]\n",
    "\n",
    "#Store the columns in a list which will be dropped later on\n",
    "drop_cols=missing_cols.index.tolist()\n",
    "\n",
    "#Print the column names which cross the threshold\n",
    "print('Columns above the {}% threshold : '.format(threshold))\n",
    "print(drop_cols)\n",
    "\n",
    "#Plot the columns which will be dropped and their missing% values\n",
    "missing_cols.plot.bar()"
   ]
  },
  {
   "cell_type": "code",
   "execution_count": 9,
   "metadata": {
    "collapsed": false,
    "deletable": true,
    "editable": true
   },
   "outputs": [
    {
     "data": {
      "text/plain": [
       "Index(['Id', 'MSSubClass', 'MSZoning', 'LotFrontage', 'LotArea', 'Street',\n",
       "       'Alley', 'LotShape', 'LandContour', 'Utilities', 'LotConfig',\n",
       "       'LandSlope', 'Neighborhood', 'Condition1', 'Condition2', 'BldgType',\n",
       "       'HouseStyle', 'OverallQual', 'OverallCond', 'YearBuilt', 'YearRemodAdd',\n",
       "       'RoofStyle', 'RoofMatl', 'Exterior1st', 'Exterior2nd', 'MasVnrType',\n",
       "       'MasVnrArea', 'ExterQual', 'ExterCond', 'Foundation', 'BsmtQual',\n",
       "       'BsmtCond', 'BsmtExposure', 'BsmtFinType1', 'BsmtFinSF1',\n",
       "       'BsmtFinType2', 'BsmtFinSF2', 'BsmtUnfSF', 'TotalBsmtSF', 'Heating',\n",
       "       'HeatingQC', 'CentralAir', 'Electrical', '1stFlrSF', '2ndFlrSF',\n",
       "       'LowQualFinSF', 'GrLivArea', 'BsmtFullBath', 'BsmtHalfBath', 'FullBath',\n",
       "       'HalfBath', 'BedroomAbvGr', 'KitchenAbvGr', 'KitchenQual',\n",
       "       'TotRmsAbvGrd', 'Functional', 'Fireplaces', 'FireplaceQu', 'GarageType',\n",
       "       'GarageYrBlt', 'GarageFinish', 'GarageCars', 'GarageArea', 'GarageQual',\n",
       "       'GarageCond', 'PavedDrive', 'WoodDeckSF', 'OpenPorchSF',\n",
       "       'EnclosedPorch', '3SsnPorch', 'ScreenPorch', 'PoolArea', 'PoolQC',\n",
       "       'Fence', 'MiscFeature', 'MiscVal', 'MoSold', 'YrSold', 'SaleType',\n",
       "       'SaleCondition', 'SalePrice'],\n",
       "      dtype='object')"
      ]
     },
     "execution_count": 9,
     "metadata": {},
     "output_type": "execute_result"
    }
   ],
   "source": [
    "train_raw.columns"
   ]
  },
  {
   "cell_type": "code",
   "execution_count": 17,
   "metadata": {
    "collapsed": false
   },
   "outputs": [],
   "source": [
    "\n",
    "# Feature Extraction with PCA\n",
    "import numpy\n",
    "from pandas import read_csv\n",
    "from sklearn.decomposition import PCA\n",
    "# load data\n",
    "url = \"https://archive.ics.uci.edu/ml/machine-learning-databases/pima-indians-diabetes/pima-indians-diabetes.data\"\n",
    "names = ['preg', 'plas', 'pres', 'skin', 'test', 'mass', 'pedi', 'age', 'class']\n",
    "dataframe = read_csv(url, names=names)"
   ]
  },
  {
   "cell_type": "code",
   "execution_count": 20,
   "metadata": {
    "collapsed": false
   },
   "outputs": [
    {
     "data": {
      "text/plain": [
       "preg       int64\n",
       "plas       int64\n",
       "pres       int64\n",
       "skin       int64\n",
       "test       int64\n",
       "mass     float64\n",
       "pedi     float64\n",
       "age        int64\n",
       "class      int64\n",
       "dtype: object"
      ]
     },
     "execution_count": 20,
     "metadata": {},
     "output_type": "execute_result"
    }
   ],
   "source": [
    "dataframe.dtypes"
   ]
  },
  {
   "cell_type": "code",
   "execution_count": null,
   "metadata": {
    "collapsed": true
   },
   "outputs": [],
   "source": []
  }
 ],
 "metadata": {
  "kernelspec": {
   "display_name": "Python 3",
   "language": "python",
   "name": "python3"
  },
  "language_info": {
   "codemirror_mode": {
    "name": "ipython",
    "version": 3
   },
   "file_extension": ".py",
   "mimetype": "text/x-python",
   "name": "python",
   "nbconvert_exporter": "python",
   "pygments_lexer": "ipython3",
   "version": "3.6.0"
  }
 },
 "nbformat": 4,
 "nbformat_minor": 2
}
